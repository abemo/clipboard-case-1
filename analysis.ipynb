{
 "cells": [
  {
   "cell_type": "code",
   "execution_count": null,
   "id": "8f190fe0",
   "metadata": {},
   "outputs": [],
   "source": [
    "# load the data and save it to a csv file\n",
    "import pandas as pd\n",
    "df = pd.DataFrame(pd.read_excel('data.xlsx'))\n",
    "df.to_csv('data.csv', index=False)"
   ]
  },
  {
   "cell_type": "code",
   "execution_count": null,
   "id": "cb60c751",
   "metadata": {},
   "outputs": [],
   "source": [
    "# Load and extract the csv data as a DataFrame\n",
    "df = pd.read_csv('data.csv')\n",
    "print(df.head())"
   ]
  }
 ],
 "metadata": {
  "kernelspec": {
   "display_name": "clipboard_venv",
   "language": "python",
   "name": "python3"
  },
  "language_info": {
   "codemirror_mode": {
    "name": "ipython",
    "version": 3
   },
   "file_extension": ".py",
   "mimetype": "text/x-python",
   "name": "python",
   "nbconvert_exporter": "python",
   "pygments_lexer": "ipython3",
   "version": "3.11.5"
  }
 },
 "nbformat": 4,
 "nbformat_minor": 5
}
